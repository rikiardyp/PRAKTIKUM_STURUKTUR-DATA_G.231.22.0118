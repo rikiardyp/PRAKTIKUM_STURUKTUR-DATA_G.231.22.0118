{
  "nbformat": 4,
  "nbformat_minor": 0,
  "metadata": {
    "colab": {
      "provenance": []
    },
    "kernelspec": {
      "name": "python3",
      "display_name": "Python 3"
    },
    "language_info": {
      "name": "python"
    }
  },
  "cells": [
    {
      "cell_type": "code",
      "execution_count": null,
      "metadata": {
        "colab": {
          "base_uri": "https://localhost:8080/"
        },
        "id": "FTg4lGxxUT-C",
        "outputId": "6a07cdf2-958e-4086-a15b-2309cc0666b2"
      },
      "outputs": [
        {
          "output_type": "stream",
          "name": "stdout",
          "text": [
            "\"The quick brown fox jumps over the little lazy  dog\"\n",
            "\n",
            "is a pangram\n"
          ]
        }
      ],
      "source": [
        "# A Python Program to check if the given\n",
        "# string is a pangram or not\n",
        "\n",
        "def checkPangram(s):\n",
        " List = []\n",
        "# create list of 26 characters and set false each entry\n",
        " for i in range(26):\n",
        "     List.append(False)\n",
        "\n",
        " # converting the sentence to lowercase and iterating\n",
        " # over the sentence\n",
        " for c in s.lower():\n",
        "     if not c == \" \":\n",
        "        # make the corresponding entry True\n",
        "         List[ord(c) - ord('a')] = True\n",
        "\n",
        " # check if any character is missing then return False\n",
        " for ch in List:\n",
        "   if ch == False:\n",
        "    return False\n",
        " return True\n",
        "# Driver Program to test above functions\n",
        "sentence = \"The quick brown fox jumps over the little lazy  dog\"\n",
        "if (checkPangram(sentence)):\n",
        " print('\"'+sentence+'\"')\n",
        " print(\"\\nis a pangram\")\n",
        "else:\n",
        " print('\"'+sentence+'\"')\n",
        " print(\"\\nis not a pangram\")"
      ]
    },
    {
      "cell_type": "code",
      "source": [
        "import random\n",
        "\n",
        "def buat_pangram():\n",
        "    \"\"\"\n",
        "    Membuat pangram.\n",
        "\n",
        "    Keluaran:\n",
        "    * Pangram\n",
        "    \"\"\"\n",
        "\n",
        "    # Buatlah daftar semua huruf alfabet\n",
        "    alfabet = list('abcdefghijklmnopqrstuvwxyz')\n",
        "\n",
        "    # Inisialisasi pangram kosong\n",
        "    pangram = \"\"\n",
        "\n",
        "    # Ulangi langkah 2-4 hingga semua huruf alfabet telah digunakan\n",
        "    while len(alfabet) > 0:\n",
        "        # Pilih satu huruf dari daftar huruf alfabet secara acak\n",
        "        huruf = random.choice(alfabet)\n",
        "\n",
        "        # Tambahkan huruf tersebut ke dalam pangram\n",
        "        pangram += huruf\n",
        "\n",
        "        # Hapus huruf tersebut dari daftar huruf alfabet\n",
        "        alfabet.remove(huruf)\n",
        "\n",
        "    # Periksa apakah pangram tersebut sudah memenuhi syarat pangram\n",
        "    while not memenuhi_syarat_pangram(pangram):\n",
        "        # Jika pangram belum memenuhi syarat, buat ulang pangram baru\n",
        "        return buat_pangram()\n",
        "\n",
        "    return pangram\n",
        "\n",
        "def memenuhi_syarat_pangram(pangram):\n",
        "    \"\"\"\n",
        "    Memeriksa apakah pangram tersebut memenuhi syarat pangram.\n",
        "\n",
        "    Masukan:\n",
        "    * Pangram\n",
        "\n",
        "    Keluaran:\n",
        "    * True jika pangram tersebut memenuhi syarat pangram, False jika tidak\n",
        "    \"\"\"\n",
        "\n",
        "    # Periksa apakah pangram tersebut sudah mengandung semua huruf alfabet\n",
        "    for huruf in 'abcdefghijklmnopqrstuvwxyz':\n",
        "        if huruf not in pangram:\n",
        "            return False\n",
        "\n",
        "    # Periksa apakah pangram tersebut memiliki makna yang jelas\n",
        "    # (Ini bisa dilakukan dengan cara manual)\n",
        "    # Implementasi lebih lanjut diperlukan untuk memeriksa makna dari pangram\n",
        "\n",
        "    return True\n",
        "\n",
        "# Memanggil fungsi untuk membuat pangram dan mencetak hasilnya di luar fungsi\n",
        "hasil_pangram = buat_pangram()\n",
        "print(\"Pangram yang Dibuat:\", hasil_pangram)\n",
        "\n"
      ],
      "metadata": {
        "colab": {
          "base_uri": "https://localhost:8080/"
        },
        "id": "vO_iXQzhrSeN",
        "outputId": "6fe9a394-095a-4d09-c66f-a1f6d447e0eb"
      },
      "execution_count": 59,
      "outputs": [
        {
          "output_type": "stream",
          "name": "stdout",
          "text": [
            "Pangram yang Dibuat: firvxzoqhkbygectpmwsdnaujl\n"
          ]
        }
      ]
    }
  ]
}